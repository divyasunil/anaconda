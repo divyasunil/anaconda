{
 "cells": [
  {
   "cell_type": "code",
   "execution_count": 11,
   "id": "59b6e707-d892-4864-8b33-9e5f38572d1e",
   "metadata": {},
   "outputs": [],
   "source": [
    "import numpy"
   ]
  },
  {
   "cell_type": "code",
   "execution_count": 12,
   "id": "3d9ec7c9-bef4-4ad3-b2ab-865fe0e829f5",
   "metadata": {},
   "outputs": [],
   "source": [
    "x=numpy.array([11,22,33,44])"
   ]
  },
  {
   "cell_type": "code",
   "execution_count": 13,
   "id": "d3fd44db-489e-475d-a94e-230db32be99f",
   "metadata": {},
   "outputs": [
    {
     "data": {
      "text/plain": [
       "array([11, 22, 33, 44])"
      ]
     },
     "execution_count": 13,
     "metadata": {},
     "output_type": "execute_result"
    }
   ],
   "source": [
    "x"
   ]
  },
  {
   "cell_type": "code",
   "execution_count": 14,
   "id": "a93583da-a6f5-49cb-9eb9-664aad245737",
   "metadata": {},
   "outputs": [
    {
     "name": "stdout",
     "output_type": "stream",
     "text": [
      "[11 22 33 44]\n"
     ]
    }
   ],
   "source": [
    "print(x)"
   ]
  },
  {
   "cell_type": "code",
   "execution_count": 15,
   "id": "2b4207a8-e0a6-4e26-bc9d-007ed8e9655b",
   "metadata": {},
   "outputs": [],
   "source": [
    "import numpy as np"
   ]
  },
  {
   "cell_type": "code",
   "execution_count": 16,
   "id": "d9867070-0ead-431e-9417-768d9aaf258a",
   "metadata": {},
   "outputs": [],
   "source": [
    "y=np.array([100,200,300])"
   ]
  },
  {
   "cell_type": "code",
   "execution_count": 17,
   "id": "7e5ea9e7-9289-46c6-8979-56f27701664d",
   "metadata": {},
   "outputs": [
    {
     "data": {
      "text/plain": [
       "array([100, 200, 300])"
      ]
     },
     "execution_count": 17,
     "metadata": {},
     "output_type": "execute_result"
    }
   ],
   "source": [
    "y"
   ]
  },
  {
   "cell_type": "code",
   "execution_count": 18,
   "id": "3acaf103-900a-4598-9b88-524b0f39f3d0",
   "metadata": {},
   "outputs": [
    {
     "data": {
      "text/plain": [
       "'1.26.4'"
      ]
     },
     "execution_count": 18,
     "metadata": {},
     "output_type": "execute_result"
    }
   ],
   "source": [
    "np.__version__"
   ]
  },
  {
   "cell_type": "code",
   "execution_count": 20,
   "id": "074043b7-c3ed-4286-b465-fb66475a2c35",
   "metadata": {},
   "outputs": [],
   "source": [
    "z=np.array((44,55,77,88,111))"
   ]
  },
  {
   "cell_type": "code",
   "execution_count": 21,
   "id": "8d8d47a5-09d2-4094-8c5c-e253b51b49f8",
   "metadata": {},
   "outputs": [
    {
     "data": {
      "text/plain": [
       "array([ 44,  55,  77,  88, 111])"
      ]
     },
     "execution_count": 21,
     "metadata": {},
     "output_type": "execute_result"
    }
   ],
   "source": [
    "z"
   ]
  },
  {
   "cell_type": "code",
   "execution_count": 24,
   "id": "c17ad45b-89bb-4822-bec1-97181c346b55",
   "metadata": {},
   "outputs": [],
   "source": [
    "x2d=np.array([[1,2,3],[55,77,88]])"
   ]
  },
  {
   "cell_type": "code",
   "execution_count": 25,
   "id": "92d864b8-3cc5-4151-99d4-8dcc417a0b6f",
   "metadata": {},
   "outputs": [
    {
     "data": {
      "text/plain": [
       "array([[ 1,  2,  3],\n",
       "       [55, 77, 88]])"
      ]
     },
     "execution_count": 25,
     "metadata": {},
     "output_type": "execute_result"
    }
   ],
   "source": [
    "x2d"
   ]
  },
  {
   "cell_type": "code",
   "execution_count": 38,
   "id": "683536f1-f4ca-403e-8f3c-ec51f66a09cf",
   "metadata": {},
   "outputs": [],
   "source": [
    "y2d=np.array([[1,2,3],[22,44,66],[11,33,55]])"
   ]
  },
  {
   "cell_type": "code",
   "execution_count": 28,
   "id": "13798c0d-b102-4a02-9026-e3aac738cf1e",
   "metadata": {},
   "outputs": [
    {
     "data": {
      "text/plain": [
       "array([[ 1,  2,  3],\n",
       "       [22, 44, 66],\n",
       "       [11, 33, 55]])"
      ]
     },
     "execution_count": 28,
     "metadata": {},
     "output_type": "execute_result"
    }
   ],
   "source": [
    "y2d"
   ]
  },
  {
   "cell_type": "code",
   "execution_count": 29,
   "id": "7691dc49-ff51-416e-87b1-7f68e23ae514",
   "metadata": {},
   "outputs": [],
   "source": [
    "z1=np.array(55)"
   ]
  },
  {
   "cell_type": "code",
   "execution_count": 30,
   "id": "b2ca49da-9bbc-4dda-9517-17ee7ba60956",
   "metadata": {},
   "outputs": [
    {
     "data": {
      "text/plain": [
       "array(55)"
      ]
     },
     "execution_count": 30,
     "metadata": {},
     "output_type": "execute_result"
    }
   ],
   "source": [
    "z1"
   ]
  },
  {
   "cell_type": "code",
   "execution_count": 31,
   "id": "ed74d6e9-687b-4f65-aed1-fe8bb7738405",
   "metadata": {},
   "outputs": [
    {
     "name": "stdout",
     "output_type": "stream",
     "text": [
      "55\n"
     ]
    }
   ],
   "source": [
    "print(z1)"
   ]
  },
  {
   "cell_type": "code",
   "execution_count": 33,
   "id": "7224cf87-1166-4818-bc01-ded07fe50d89",
   "metadata": {},
   "outputs": [
    {
     "data": {
      "text/plain": [
       "0"
      ]
     },
     "execution_count": 33,
     "metadata": {},
     "output_type": "execute_result"
    }
   ],
   "source": [
    "z1.ndim"
   ]
  },
  {
   "cell_type": "code",
   "execution_count": 39,
   "id": "65e9b464-595e-4799-9f74-26600d6956c0",
   "metadata": {},
   "outputs": [
    {
     "data": {
      "text/plain": [
       "2"
      ]
     },
     "execution_count": 39,
     "metadata": {},
     "output_type": "execute_result"
    }
   ],
   "source": [
    "y2d.ndim"
   ]
  },
  {
   "cell_type": "code",
   "execution_count": 35,
   "id": "587bb41a-4f44-4f0c-baee-e29f9d33f6ea",
   "metadata": {},
   "outputs": [
    {
     "data": {
      "text/plain": [
       "2"
      ]
     },
     "execution_count": 35,
     "metadata": {},
     "output_type": "execute_result"
    }
   ],
   "source": [
    "x2d.ndim"
   ]
  },
  {
   "cell_type": "code",
   "execution_count": 40,
   "id": "08cdf9ef-ac12-413d-839c-8e19896be2e2",
   "metadata": {},
   "outputs": [],
   "source": [
    "q1=np.array([[[1,2,3],[7,8,9],[3,4,5],[6,11,21]]])"
   ]
  },
  {
   "cell_type": "code",
   "execution_count": 41,
   "id": "793a9843-714e-4b12-8089-3d2d090febfb",
   "metadata": {},
   "outputs": [
    {
     "data": {
      "text/plain": [
       "array([[[ 1,  2,  3],\n",
       "        [ 7,  8,  9],\n",
       "        [ 3,  4,  5],\n",
       "        [ 6, 11, 21]]])"
      ]
     },
     "execution_count": 41,
     "metadata": {},
     "output_type": "execute_result"
    }
   ],
   "source": [
    "q1"
   ]
  },
  {
   "cell_type": "code",
   "execution_count": 42,
   "id": "18eeee3b-3309-4b07-8795-6b31171ac712",
   "metadata": {},
   "outputs": [
    {
     "data": {
      "text/plain": [
       "3"
      ]
     },
     "execution_count": 42,
     "metadata": {},
     "output_type": "execute_result"
    }
   ],
   "source": [
    "q1.ndim"
   ]
  },
  {
   "cell_type": "code",
   "execution_count": 43,
   "id": "faf2b186-fae2-4c46-857a-e33161a741e8",
   "metadata": {},
   "outputs": [
    {
     "data": {
      "text/plain": [
       "array([11, 22, 33, 44])"
      ]
     },
     "execution_count": 43,
     "metadata": {},
     "output_type": "execute_result"
    }
   ],
   "source": [
    "x"
   ]
  },
  {
   "cell_type": "code",
   "execution_count": 44,
   "id": "77aef66d-7cdb-497c-9298-609f9d01379f",
   "metadata": {},
   "outputs": [
    {
     "data": {
      "text/plain": [
       "33"
      ]
     },
     "execution_count": 44,
     "metadata": {},
     "output_type": "execute_result"
    }
   ],
   "source": [
    "x[2]"
   ]
  },
  {
   "cell_type": "code",
   "execution_count": 45,
   "id": "fbbbb068-3ca3-41b9-a808-9713ce225965",
   "metadata": {},
   "outputs": [
    {
     "data": {
      "text/plain": [
       "3"
      ]
     },
     "execution_count": 45,
     "metadata": {},
     "output_type": "execute_result"
    }
   ],
   "source": [
    "y2d[0,2]"
   ]
  },
  {
   "cell_type": "code",
   "execution_count": 47,
   "id": "66457faa-008a-483d-848c-60b52bf60343",
   "metadata": {},
   "outputs": [
    {
     "data": {
      "text/plain": [
       "55"
      ]
     },
     "execution_count": 47,
     "metadata": {},
     "output_type": "execute_result"
    }
   ],
   "source": [
    "y2d[2,2]"
   ]
  },
  {
   "cell_type": "code",
   "execution_count": 48,
   "id": "1c093e19-c675-4ab1-bad6-da85dc5e75e2",
   "metadata": {},
   "outputs": [],
   "source": [
    "w=np.array([[[11,21,31],[17,18,19],[32,43,53],[61,11,21]]])"
   ]
  },
  {
   "cell_type": "code",
   "execution_count": 49,
   "id": "a8e1f937-b7a9-4cc5-9b12-390f89dab339",
   "metadata": {},
   "outputs": [
    {
     "data": {
      "text/plain": [
       "array([[[11, 21, 31],\n",
       "        [17, 18, 19],\n",
       "        [32, 43, 53],\n",
       "        [61, 11, 21]]])"
      ]
     },
     "execution_count": 49,
     "metadata": {},
     "output_type": "execute_result"
    }
   ],
   "source": [
    "w"
   ]
  },
  {
   "cell_type": "code",
   "execution_count": 51,
   "id": "eeb332cf-6478-4b63-b516-5ba316ef2574",
   "metadata": {},
   "outputs": [
    {
     "data": {
      "text/plain": [
       "9"
      ]
     },
     "execution_count": 51,
     "metadata": {},
     "output_type": "execute_result"
    }
   ],
   "source": [
    "q1[0,1,2]"
   ]
  },
  {
   "cell_type": "code",
   "execution_count": 55,
   "id": "616f8cb3-e0e3-4f51-93d3-c3b4ae3de843",
   "metadata": {},
   "outputs": [
    {
     "data": {
      "text/plain": [
       "18"
      ]
     },
     "execution_count": 55,
     "metadata": {},
     "output_type": "execute_result"
    }
   ],
   "source": [
    "w[0,1,1]"
   ]
  },
  {
   "cell_type": "code",
   "execution_count": 56,
   "id": "45d9a976-d823-4c2f-ab08-7bf3d553cdcd",
   "metadata": {},
   "outputs": [
    {
     "data": {
      "text/plain": [
       "53"
      ]
     },
     "execution_count": 56,
     "metadata": {},
     "output_type": "execute_result"
    }
   ],
   "source": [
    "w[0,2,2]"
   ]
  },
  {
   "cell_type": "code",
   "execution_count": null,
   "id": "7c55a806-1e05-49d6-b89d-ac600ed2b210",
   "metadata": {},
   "outputs": [],
   "source": []
  }
 ],
 "metadata": {
  "kernelspec": {
   "display_name": "Python 3 (ipykernel)",
   "language": "python",
   "name": "python3"
  },
  "language_info": {
   "codemirror_mode": {
    "name": "ipython",
    "version": 3
   },
   "file_extension": ".py",
   "mimetype": "text/x-python",
   "name": "python",
   "nbconvert_exporter": "python",
   "pygments_lexer": "ipython3",
   "version": "3.11.7"
  }
 },
 "nbformat": 4,
 "nbformat_minor": 5
}

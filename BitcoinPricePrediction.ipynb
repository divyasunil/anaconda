{
 "cells": [
  {
   "cell_type": "code",
   "execution_count": 82,
   "id": "2c767c8d-afd6-461f-a20e-57af9ea31a4c",
   "metadata": {},
   "outputs": [],
   "source": [
    "# Import Lib\n",
    "import numpy as np\n",
    "import pandas as pd\n",
    "import seaborn as sns\n",
    "from matplotlib import pyplot as plt\n",
    "import warnings\n",
    "warnings.filterwarnings('ignore')"
   ]
  },
  {
   "cell_type": "code",
   "execution_count": 83,
   "id": "f893027d-e910-43fc-aeca-a13c50894f06",
   "metadata": {},
   "outputs": [],
   "source": [
    "# Load DataSet\n",
    "data=pd.read_csv('BitcoinPrice.csv')"
   ]
  },
  {
   "cell_type": "code",
   "execution_count": 84,
   "id": "c53be432-4755-45ad-a567-b2ca0b69e284",
   "metadata": {},
   "outputs": [
    {
     "data": {
      "text/html": [
       "<div>\n",
       "<style scoped>\n",
       "    .dataframe tbody tr th:only-of-type {\n",
       "        vertical-align: middle;\n",
       "    }\n",
       "\n",
       "    .dataframe tbody tr th {\n",
       "        vertical-align: top;\n",
       "    }\n",
       "\n",
       "    .dataframe thead th {\n",
       "        text-align: right;\n",
       "    }\n",
       "</style>\n",
       "<table border=\"1\" class=\"dataframe\">\n",
       "  <thead>\n",
       "    <tr style=\"text-align: right;\">\n",
       "      <th></th>\n",
       "      <th>Date</th>\n",
       "      <th>Price</th>\n",
       "    </tr>\n",
       "  </thead>\n",
       "  <tbody>\n",
       "    <tr>\n",
       "      <th>0</th>\n",
       "      <td>07/05/2021</td>\n",
       "      <td>1520</td>\n",
       "    </tr>\n",
       "    <tr>\n",
       "      <th>1</th>\n",
       "      <td>08/05/2021</td>\n",
       "      <td>2589</td>\n",
       "    </tr>\n",
       "    <tr>\n",
       "      <th>2</th>\n",
       "      <td>09/05/2021</td>\n",
       "      <td>3658</td>\n",
       "    </tr>\n",
       "    <tr>\n",
       "      <th>3</th>\n",
       "      <td>10/05/2021</td>\n",
       "      <td>4727</td>\n",
       "    </tr>\n",
       "    <tr>\n",
       "      <th>4</th>\n",
       "      <td>11/05/2021</td>\n",
       "      <td>5796</td>\n",
       "    </tr>\n",
       "  </tbody>\n",
       "</table>\n",
       "</div>"
      ],
      "text/plain": [
       "         Date  Price\n",
       "0  07/05/2021   1520\n",
       "1  08/05/2021   2589\n",
       "2  09/05/2021   3658\n",
       "3  10/05/2021   4727\n",
       "4  11/05/2021   5796"
      ]
     },
     "execution_count": 84,
     "metadata": {},
     "output_type": "execute_result"
    }
   ],
   "source": [
    "data.head()"
   ]
  },
  {
   "cell_type": "code",
   "execution_count": 85,
   "id": "d47ee06f-4af8-4ab8-8879-a03dc66bb84e",
   "metadata": {},
   "outputs": [
    {
     "data": {
      "text/html": [
       "<div>\n",
       "<style scoped>\n",
       "    .dataframe tbody tr th:only-of-type {\n",
       "        vertical-align: middle;\n",
       "    }\n",
       "\n",
       "    .dataframe tbody tr th {\n",
       "        vertical-align: top;\n",
       "    }\n",
       "\n",
       "    .dataframe thead th {\n",
       "        text-align: right;\n",
       "    }\n",
       "</style>\n",
       "<table border=\"1\" class=\"dataframe\">\n",
       "  <thead>\n",
       "    <tr style=\"text-align: right;\">\n",
       "      <th></th>\n",
       "      <th>Date</th>\n",
       "      <th>Price</th>\n",
       "    </tr>\n",
       "  </thead>\n",
       "  <tbody>\n",
       "    <tr>\n",
       "      <th>58</th>\n",
       "      <td>04/07/2021</td>\n",
       "      <td>462402</td>\n",
       "    </tr>\n",
       "    <tr>\n",
       "      <th>59</th>\n",
       "      <td>05/07/2021</td>\n",
       "      <td>480091</td>\n",
       "    </tr>\n",
       "    <tr>\n",
       "      <th>60</th>\n",
       "      <td>06/07/2021</td>\n",
       "      <td>497780</td>\n",
       "    </tr>\n",
       "    <tr>\n",
       "      <th>61</th>\n",
       "      <td>07/07/2021</td>\n",
       "      <td>515469</td>\n",
       "    </tr>\n",
       "    <tr>\n",
       "      <th>62</th>\n",
       "      <td>08/07/2021</td>\n",
       "      <td>533158</td>\n",
       "    </tr>\n",
       "  </tbody>\n",
       "</table>\n",
       "</div>"
      ],
      "text/plain": [
       "          Date   Price\n",
       "58  04/07/2021  462402\n",
       "59  05/07/2021  480091\n",
       "60  06/07/2021  497780\n",
       "61  07/07/2021  515469\n",
       "62  08/07/2021  533158"
      ]
     },
     "execution_count": 85,
     "metadata": {},
     "output_type": "execute_result"
    }
   ],
   "source": [
    "data.tail()"
   ]
  },
  {
   "cell_type": "code",
   "execution_count": 86,
   "id": "1ce92320-df9f-4a45-be03-0b8264aebb83",
   "metadata": {},
   "outputs": [
    {
     "name": "stdout",
     "output_type": "stream",
     "text": [
      "<class 'pandas.core.frame.DataFrame'>\n",
      "RangeIndex: 63 entries, 0 to 62\n",
      "Data columns (total 2 columns):\n",
      " #   Column  Non-Null Count  Dtype \n",
      "---  ------  --------------  ----- \n",
      " 0   Date    63 non-null     object\n",
      " 1   Price   63 non-null     int64 \n",
      "dtypes: int64(1), object(1)\n",
      "memory usage: 1.1+ KB\n"
     ]
    }
   ],
   "source": [
    "data.info()"
   ]
  },
  {
   "cell_type": "code",
   "execution_count": 87,
   "id": "338b8752-2021-43f7-aa05-ff37a1709c9f",
   "metadata": {},
   "outputs": [],
   "source": [
    "data.drop(columns=['Date'], inplace=True)"
   ]
  },
  {
   "cell_type": "code",
   "execution_count": 88,
   "id": "dc44abb1-d3c9-480b-aa0d-a6ba1e5c74a1",
   "metadata": {},
   "outputs": [
    {
     "data": {
      "text/html": [
       "<div>\n",
       "<style scoped>\n",
       "    .dataframe tbody tr th:only-of-type {\n",
       "        vertical-align: middle;\n",
       "    }\n",
       "\n",
       "    .dataframe tbody tr th {\n",
       "        vertical-align: top;\n",
       "    }\n",
       "\n",
       "    .dataframe thead th {\n",
       "        text-align: right;\n",
       "    }\n",
       "</style>\n",
       "<table border=\"1\" class=\"dataframe\">\n",
       "  <thead>\n",
       "    <tr style=\"text-align: right;\">\n",
       "      <th></th>\n",
       "      <th>Price</th>\n",
       "    </tr>\n",
       "  </thead>\n",
       "  <tbody>\n",
       "    <tr>\n",
       "      <th>0</th>\n",
       "      <td>1520</td>\n",
       "    </tr>\n",
       "    <tr>\n",
       "      <th>1</th>\n",
       "      <td>2589</td>\n",
       "    </tr>\n",
       "    <tr>\n",
       "      <th>2</th>\n",
       "      <td>3658</td>\n",
       "    </tr>\n",
       "    <tr>\n",
       "      <th>3</th>\n",
       "      <td>4727</td>\n",
       "    </tr>\n",
       "    <tr>\n",
       "      <th>4</th>\n",
       "      <td>5796</td>\n",
       "    </tr>\n",
       "  </tbody>\n",
       "</table>\n",
       "</div>"
      ],
      "text/plain": [
       "   Price\n",
       "0   1520\n",
       "1   2589\n",
       "2   3658\n",
       "3   4727\n",
       "4   5796"
      ]
     },
     "execution_count": 88,
     "metadata": {},
     "output_type": "execute_result"
    }
   ],
   "source": [
    "data.head()"
   ]
  },
  {
   "cell_type": "code",
   "execution_count": 89,
   "id": "f4ffb6b1-4841-490d-a2fa-bdb5731f2a1c",
   "metadata": {},
   "outputs": [],
   "source": [
    "# Predicting 30 days in future\n",
    "pre_days=30\n",
    "data['Prediction']=data[['Price']].shift(-pre_days)"
   ]
  },
  {
   "cell_type": "code",
   "execution_count": 90,
   "id": "b8988dc1-865d-495e-bf82-9f6473b18d11",
   "metadata": {},
   "outputs": [
    {
     "data": {
      "text/html": [
       "<div>\n",
       "<style scoped>\n",
       "    .dataframe tbody tr th:only-of-type {\n",
       "        vertical-align: middle;\n",
       "    }\n",
       "\n",
       "    .dataframe tbody tr th {\n",
       "        vertical-align: top;\n",
       "    }\n",
       "\n",
       "    .dataframe thead th {\n",
       "        text-align: right;\n",
       "    }\n",
       "</style>\n",
       "<table border=\"1\" class=\"dataframe\">\n",
       "  <thead>\n",
       "    <tr style=\"text-align: right;\">\n",
       "      <th></th>\n",
       "      <th>Price</th>\n",
       "      <th>Prediction</th>\n",
       "    </tr>\n",
       "  </thead>\n",
       "  <tbody>\n",
       "    <tr>\n",
       "      <th>0</th>\n",
       "      <td>1520</td>\n",
       "      <td>33590.0</td>\n",
       "    </tr>\n",
       "    <tr>\n",
       "      <th>1</th>\n",
       "      <td>2589</td>\n",
       "      <td>34659.0</td>\n",
       "    </tr>\n",
       "    <tr>\n",
       "      <th>2</th>\n",
       "      <td>3658</td>\n",
       "      <td>35728.0</td>\n",
       "    </tr>\n",
       "    <tr>\n",
       "      <th>3</th>\n",
       "      <td>4727</td>\n",
       "      <td>36797.0</td>\n",
       "    </tr>\n",
       "    <tr>\n",
       "      <th>4</th>\n",
       "      <td>5796</td>\n",
       "      <td>37866.0</td>\n",
       "    </tr>\n",
       "  </tbody>\n",
       "</table>\n",
       "</div>"
      ],
      "text/plain": [
       "   Price  Prediction\n",
       "0   1520     33590.0\n",
       "1   2589     34659.0\n",
       "2   3658     35728.0\n",
       "3   4727     36797.0\n",
       "4   5796     37866.0"
      ]
     },
     "execution_count": 90,
     "metadata": {},
     "output_type": "execute_result"
    }
   ],
   "source": [
    "data.head()"
   ]
  },
  {
   "cell_type": "code",
   "execution_count": 91,
   "id": "d96d39f7-c91c-4e9a-bffa-58f34c065b54",
   "metadata": {},
   "outputs": [
    {
     "data": {
      "text/html": [
       "<div>\n",
       "<style scoped>\n",
       "    .dataframe tbody tr th:only-of-type {\n",
       "        vertical-align: middle;\n",
       "    }\n",
       "\n",
       "    .dataframe tbody tr th {\n",
       "        vertical-align: top;\n",
       "    }\n",
       "\n",
       "    .dataframe thead th {\n",
       "        text-align: right;\n",
       "    }\n",
       "</style>\n",
       "<table border=\"1\" class=\"dataframe\">\n",
       "  <thead>\n",
       "    <tr style=\"text-align: right;\">\n",
       "      <th></th>\n",
       "      <th>Price</th>\n",
       "      <th>Prediction</th>\n",
       "    </tr>\n",
       "  </thead>\n",
       "  <tbody>\n",
       "    <tr>\n",
       "      <th>58</th>\n",
       "      <td>462402</td>\n",
       "      <td>NaN</td>\n",
       "    </tr>\n",
       "    <tr>\n",
       "      <th>59</th>\n",
       "      <td>480091</td>\n",
       "      <td>NaN</td>\n",
       "    </tr>\n",
       "    <tr>\n",
       "      <th>60</th>\n",
       "      <td>497780</td>\n",
       "      <td>NaN</td>\n",
       "    </tr>\n",
       "    <tr>\n",
       "      <th>61</th>\n",
       "      <td>515469</td>\n",
       "      <td>NaN</td>\n",
       "    </tr>\n",
       "    <tr>\n",
       "      <th>62</th>\n",
       "      <td>533158</td>\n",
       "      <td>NaN</td>\n",
       "    </tr>\n",
       "  </tbody>\n",
       "</table>\n",
       "</div>"
      ],
      "text/plain": [
       "     Price  Prediction\n",
       "58  462402         NaN\n",
       "59  480091         NaN\n",
       "60  497780         NaN\n",
       "61  515469         NaN\n",
       "62  533158         NaN"
      ]
     },
     "execution_count": 91,
     "metadata": {},
     "output_type": "execute_result"
    }
   ],
   "source": [
    "data.tail()"
   ]
  },
  {
   "cell_type": "code",
   "execution_count": 92,
   "id": "d28e13e4-45ae-40ae-8c62-c64b5b96f9e3",
   "metadata": {},
   "outputs": [],
   "source": [
    "# Seperate X & Y\n",
    "X = np.array(data.drop(['Prediction'], axis=1))\n",
    "X = X[:len(data) - pre_days]"
   ]
  },
  {
   "cell_type": "code",
   "execution_count": 93,
   "id": "d08a6cf2-9ba5-4c3f-981c-e5158073e498",
   "metadata": {},
   "outputs": [
    {
     "data": {
      "text/plain": [
       "(33, 1)"
      ]
     },
     "execution_count": 93,
     "metadata": {},
     "output_type": "execute_result"
    }
   ],
   "source": [
    "X.shape"
   ]
  },
  {
   "cell_type": "code",
   "execution_count": 94,
   "id": "14202042-1230-4c21-a23c-51723eaf9f1f",
   "metadata": {},
   "outputs": [
    {
     "data": {
      "text/plain": [
       "array([[ 1520],\n",
       "       [ 2589],\n",
       "       [ 3658],\n",
       "       [ 4727],\n",
       "       [ 5796],\n",
       "       [ 6865],\n",
       "       [ 7934],\n",
       "       [ 9003],\n",
       "       [10072],\n",
       "       [11141],\n",
       "       [12210],\n",
       "       [13279],\n",
       "       [14348],\n",
       "       [15417],\n",
       "       [16486],\n",
       "       [17555],\n",
       "       [18624],\n",
       "       [19693],\n",
       "       [20762],\n",
       "       [21831],\n",
       "       [22900],\n",
       "       [23969],\n",
       "       [25038],\n",
       "       [26107],\n",
       "       [27176],\n",
       "       [28245],\n",
       "       [29314],\n",
       "       [30383],\n",
       "       [31452],\n",
       "       [32521],\n",
       "       [33590],\n",
       "       [34659],\n",
       "       [35728]], dtype=int64)"
      ]
     },
     "execution_count": 94,
     "metadata": {},
     "output_type": "execute_result"
    }
   ],
   "source": [
    "X"
   ]
  },
  {
   "cell_type": "code",
   "execution_count": 95,
   "id": "471574be-8d02-41aa-91df-a303c83e39d1",
   "metadata": {},
   "outputs": [],
   "source": [
    "# Create Y as np array\n",
    "Y = np.array(data['Prediction'])\n",
    "Y = Y[:-pre_days]"
   ]
  },
  {
   "cell_type": "code",
   "execution_count": 96,
   "id": "658e245f-4ec9-41bf-97d8-0357c4c7f32a",
   "metadata": {},
   "outputs": [
    {
     "data": {
      "text/plain": [
       "(33,)"
      ]
     },
     "execution_count": 96,
     "metadata": {},
     "output_type": "execute_result"
    }
   ],
   "source": [
    "Y.shape"
   ]
  },
  {
   "cell_type": "code",
   "execution_count": 97,
   "id": "d86e810c-f7e3-43d5-acf0-bd36e63d6405",
   "metadata": {},
   "outputs": [
    {
     "data": {
      "text/plain": [
       "array([ 33590.,  34659.,  35728.,  36797.,  37866.,  55555.,  73244.,\n",
       "        90933., 108622., 126311., 144000., 161689., 179378., 197067.,\n",
       "       214756., 232445., 250134., 267823., 285512., 303201., 320890.,\n",
       "       338579., 356268., 373957., 391646., 409335., 427024., 444713.,\n",
       "       462402., 480091., 497780., 515469., 533158.])"
      ]
     },
     "execution_count": 97,
     "metadata": {},
     "output_type": "execute_result"
    }
   ],
   "source": [
    "Y"
   ]
  },
  {
   "cell_type": "code",
   "execution_count": 98,
   "id": "9efa950a-db12-4868-bdcb-ad94f7b54fc1",
   "metadata": {},
   "outputs": [],
   "source": [
    "# Split Data\n",
    "\n",
    "from sklearn.model_selection import train_test_split\n",
    "X_train,X_test,Y_train,Y_test=train_test_split(X,Y,test_size=0.2)"
   ]
  },
  {
   "cell_type": "code",
   "execution_count": 99,
   "id": "0707e91f-959a-447c-859f-273165ad27b5",
   "metadata": {},
   "outputs": [],
   "source": [
    "P_days_array=np.array(data.drop(['Prediction'], axis=1))[-pre_days]"
   ]
  },
  {
   "cell_type": "code",
   "execution_count": 100,
   "id": "e34387c0-b181-4fcc-abc6-96c92a608ef0",
   "metadata": {},
   "outputs": [
    {
     "name": "stdout",
     "output_type": "stream",
     "text": [
      "[36797]\n"
     ]
    }
   ],
   "source": [
    "print(P_days_array)"
   ]
  },
  {
   "cell_type": "code",
   "execution_count": 101,
   "id": "13a24d9a-9620-4352-bd56-9efbd048ccc4",
   "metadata": {},
   "outputs": [],
   "source": [
    "from sklearn.ensemble import RandomForestRegressor"
   ]
  },
  {
   "cell_type": "code",
   "execution_count": 104,
   "id": "daa66ebb-56b4-404b-90e1-0dfbcf5c1cb6",
   "metadata": {},
   "outputs": [
    {
     "name": "stdout",
     "output_type": "stream",
     "text": [
      "Random Forset Accuracy:  99.65%\n"
     ]
    }
   ],
   "source": [
    "Rf=RandomForestRegressor(n_estimators=1000,random_state=1)\n",
    "Rf.fit(X_train,Y_train)\n",
    "print('Random Forset Accuracy: {: .2f}%'.format(Rf.score(X_test,Y_test)*100))"
   ]
  },
  {
   "cell_type": "code",
   "execution_count": 105,
   "id": "70eaf21f-7d8e-4219-9b6b-0e021379da5b",
   "metadata": {},
   "outputs": [
    {
     "name": "stdout",
     "output_type": "stream",
     "text": [
      "[470379.739 398173.241  34694.883 439441.678 346326.782 294161.921\n",
      " 205504.653]\n"
     ]
    }
   ],
   "source": [
    "# Prediction\n",
    "Rf_prediction =Rf.predict(X_test)\n",
    "print(Rf_prediction)"
   ]
  },
  {
   "cell_type": "code",
   "execution_count": 107,
   "id": "3e05f836-d7bb-46c5-9e1b-415e69cfca0d",
   "metadata": {},
   "outputs": [
    {
     "name": "stdout",
     "output_type": "stream",
     "text": [
      "[462402. 409335.  34659. 444713. 356268. 303201. 214756.]\n"
     ]
    }
   ],
   "source": [
    "print(Y_test)"
   ]
  },
  {
   "cell_type": "code",
   "execution_count": null,
   "id": "bcb50329-5ab7-4dfa-8051-c3319056d4ab",
   "metadata": {},
   "outputs": [],
   "source": [
    "Rf_prediction_30="
   ]
  }
 ],
 "metadata": {
  "kernelspec": {
   "display_name": "Python 3 (ipykernel)",
   "language": "python",
   "name": "python3"
  },
  "language_info": {
   "codemirror_mode": {
    "name": "ipython",
    "version": 3
   },
   "file_extension": ".py",
   "mimetype": "text/x-python",
   "name": "python",
   "nbconvert_exporter": "python",
   "pygments_lexer": "ipython3",
   "version": "3.11.7"
  }
 },
 "nbformat": 4,
 "nbformat_minor": 5
}
